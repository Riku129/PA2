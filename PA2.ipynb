{
 "cells": [
  {
   "cell_type": "markdown",
   "id": "fe3c7a92",
   "metadata": {},
   "source": [
    "# Adham Howaidy\n",
    "\n",
    "### Programming Assignment 2\n",
    "\n",
    "### CS150-01\n",
    "\n",
    "### Computer Programming for the Liberal Arts\n",
    "\n",
    "### Fall 2021\n",
    "\n",
    "### Pyhton V3"
   ]
  },
  {
   "cell_type": "code",
   "execution_count": 3,
   "id": "65d3b5a3",
   "metadata": {},
   "outputs": [
    {
     "name": "stdout",
     "output_type": "stream",
     "text": [
      "0\n",
      "1\n",
      "2\n",
      "3\n",
      "4\n",
      "5\n",
      "6  * \n",
      "7\n",
      "8\n",
      "9  * \n",
      "10\n",
      "11\n",
      "12  * \n",
      "13\n",
      "14\n",
      "15  * \n",
      "16\n",
      "17\n",
      "18  * \n",
      "19\n",
      "20\n",
      "21  * \n",
      "22\n",
      "23\n",
      "24  * \n",
      "25\n",
      "26\n",
      "27  * \n",
      "28\n",
      "29\n",
      "30  * \n",
      "31\n",
      "32\n",
      "33  * \n",
      "34\n",
      "35\n",
      "36  * \n",
      "37\n",
      "38\n",
      "39  * \n",
      "40\n",
      "41\n",
      "42  * \n",
      "43\n",
      "44\n",
      "45  * \n",
      "46\n",
      "47\n",
      "48  * \n",
      "49\n",
      "50\n",
      "51  * \n",
      "52\n",
      "53\n",
      "54  * \n",
      "55\n",
      "56\n",
      "57  * \n",
      "58\n",
      "59\n",
      "60  * \n",
      "61\n",
      "62\n",
      "63  * \n",
      "64\n",
      "65\n",
      "66  * \n",
      "67\n",
      "68\n",
      "69  * \n",
      "70\n",
      "71\n",
      "72  * \n",
      "73\n",
      "74\n",
      "75  * \n",
      "76\n",
      "77\n",
      "78  * \n",
      "79\n",
      "80\n",
      "81  * \n",
      "82\n",
      "83\n",
      "84  * \n",
      "85\n",
      "86\n",
      "87  * \n",
      "88\n",
      "89\n",
      "90  * \n",
      "91\n",
      "92\n",
      "93  * \n",
      "94\n",
      "95\n",
      "96  * \n",
      "97\n",
      "98\n",
      "99  * \n",
      "100\n"
     ]
    }
   ],
   "source": [
    "for i in range(0, 101):\n",
    "    if i < 6:\n",
    "        print(i)\n",
    "    elif i%3 == 0:\n",
    "        print(i, ' * ')\n",
    "    else:\n",
    "        print(i)"
   ]
  },
  {
   "cell_type": "code",
   "execution_count": 2,
   "id": "58df274b",
   "metadata": {},
   "outputs": [
    {
     "name": "stdout",
     "output_type": "stream",
     "text": [
      "What is the citizen's age?: 65\n",
      "Senior Citizen\n"
     ]
    }
   ],
   "source": [
    "a = int(input(\"What is the citizen's age?: \"))   # Alternate version\n",
    "\n",
    "if a == 0:\n",
    "    print()\n",
    "elif a <= 17:\n",
    "    print(\"Minor\")\n",
    "elif a >= 18 and a < 65:\n",
    "    print(\"Adult\")\n",
    "elif a >= 65:\n",
    "    print(\"Senior Citizen\")"
   ]
  },
  {
   "cell_type": "code",
   "execution_count": 2,
   "id": "aec4e7bb",
   "metadata": {},
   "outputs": [
    {
     "name": "stdout",
     "output_type": "stream",
     "text": [
      "What is the citizen's age?: 17\n",
      "Minor\n",
      "What is the citizen's age?: 21\n",
      "Adult\n",
      "What is the citizen's age?: 75\n",
      "Senior Citizen\n",
      "What is the citizen's age?: 83\n",
      "Senior Citizen\n",
      "What is the citizen's age?: 29\n",
      "Adult\n",
      "What is the citizen's age?: 1\n",
      "Minor\n",
      "What is the citizen's age?: 0\n"
     ]
    }
   ],
   "source": [
    "age = int(input(\"What is the citizen's age?: \")) # Main version\n",
    "while age > 0:\n",
    "    if age > 0 and age < 18:\n",
    "        print(\"Minor\")\n",
    "    elif age > 18 and age < 65:\n",
    "        print(\"Adult\")\n",
    "    elif age >= 65:\n",
    "        print(\"Senior Citizen\")\n",
    "    age = int(input(\"What is the citizen's age?: \" ))"
   ]
  },
  {
   "cell_type": "code",
   "execution_count": 3,
   "id": "2e6fc27d",
   "metadata": {},
   "outputs": [
    {
     "name": "stdout",
     "output_type": "stream",
     "text": [
      "65 :Senior citizen\n",
      "78 :Senior citizen\n",
      "34 :Adult\n",
      "56 :Adult\n",
      "12 :Minor\n",
      "9 :Minor\n",
      "43 :Adult\n",
      "67 :Senior citizen\n"
     ]
    }
   ],
   "source": [
    "numbers = [65, 78, 34, 56, 12, 9, 43, 67]\n",
    "for num in numbers :\n",
    "    if num > 0 and num < 18:\n",
    "        print(num, \":Minor\")\n",
    "    if num > 18 and num <65:\n",
    "        print(num, \":Adult\")\n",
    "    if num >= 65:\n",
    "        print(num, \":Senior citizen\")"
   ]
  }
 ],
 "metadata": {
  "kernelspec": {
   "display_name": "Python 3",
   "language": "python",
   "name": "python3"
  },
  "language_info": {
   "codemirror_mode": {
    "name": "ipython",
    "version": 3
   },
   "file_extension": ".py",
   "mimetype": "text/x-python",
   "name": "python",
   "nbconvert_exporter": "python",
   "pygments_lexer": "ipython3",
   "version": "3.8.8"
  }
 },
 "nbformat": 4,
 "nbformat_minor": 5
}
